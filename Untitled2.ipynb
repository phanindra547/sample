{
  "nbformat": 4,
  "nbformat_minor": 0,
  "metadata": {
    "colab": {
      "name": "Untitled2.ipynb",
      "provenance": [],
      "authorship_tag": "ABX9TyPMEdH5FgiJL120Z3K23K9f",
      "include_colab_link": true
    },
    "kernelspec": {
      "name": "python3",
      "display_name": "Python 3"
    },
    "language_info": {
      "name": "python"
    }
  },
  "cells": [
    {
      "cell_type": "markdown",
      "metadata": {
        "id": "view-in-github",
        "colab_type": "text"
      },
      "source": [
        "<a href=\"https://colab.research.google.com/github/phanindra547/sample/blob/main/Untitled2.ipynb\" target=\"_parent\"><img src=\"https://colab.research.google.com/assets/colab-badge.svg\" alt=\"Open In Colab\"/></a>"
      ]
    },
    {
      "cell_type": "markdown",
      "metadata": {
        "id": "mucrcqrBvasu"
      },
      "source": [
        "GCD of two numbers"
      ]
    },
    {
      "cell_type": "code",
      "metadata": {
        "id": "g7FvOQiHtunQ"
      },
      "source": [
        "def GCD(a,b):\n",
        "    if b==0:\n",
        "        return a\n",
        "    else:\n",
        "        return GCD(b,a%b)\n",
        "a=int(input())\n",
        "b=int(input())\n",
        "k=GCD(a,b)\n",
        "print(k)"
      ],
      "execution_count": null,
      "outputs": []
    },
    {
      "cell_type": "markdown",
      "metadata": {
        "id": "Fq5UysOyxIPm"
      },
      "source": [
        "Given number is palindrome or not"
      ]
    },
    {
      "cell_type": "code",
      "metadata": {
        "id": "RyO5gQ2atvOt"
      },
      "source": [
        "num=int(input())\n",
        "reverse=0\n",
        "s=num\n",
        "while(s>0):\n",
        "    r=s%10\n",
        "    reverse=reverse*10+r\n",
        "    s=s//10\n",
        "if(num==reverse):\n",
        "    print(\"s is a palindrome\")\n",
        "else:\n",
        "    print(\"s is not a palindrome"
      ],
      "execution_count": null,
      "outputs": []
    },
    {
      "cell_type": "markdown",
      "metadata": {
        "id": "yr3jvKVSyGt5"
      },
      "source": [
        "Given year is leap or not"
      ]
    },
    {
      "cell_type": "code",
      "metadata": {
        "id": "7CHGLImSyUwR"
      },
      "source": [
        "year=int(input())\n",
        "if(year>0):\n",
        "    if(year%400==0):\n",
        "        print(\"leap year\")\n",
        "    elif(year%4==0 and year%100!=0):\n",
        "        print(\"leap year\")\n",
        "    else:\n",
        "        print(\"not a leap year\")\n",
        "else:\n",
        "    print(\"invalid input\")"
      ],
      "execution_count": null,
      "outputs": []
    },
    {
      "cell_type": "code",
      "metadata": {
        "id": "MZxjrw9Z6pf-"
      },
      "source": [
        ""
      ],
      "execution_count": null,
      "outputs": []
    }
  ]
}